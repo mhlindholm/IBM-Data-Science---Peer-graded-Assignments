{
 "cells": [
  {
   "cell_type": "markdown",
   "metadata": {},
   "source": [
    "<center>\n",
    "    <img src=\"https://cf-courses-data.s3.us.cloud-object-storage.appdomain.cloud/IBMDeveloperSkillsNetwork-DS0105EN-SkillsNetwork/labs/Module2/images/SN_web_lightmode.png\" width=\"300\" alt=\"cognitiveclass.ai logo\"  />\n",
    "</center>\n"
   ]
  },
  {
   "cell_type": "markdown",
   "metadata": {},
   "source": [
    "#### Add your code below following the instructions given in the course\n"
   ]
  },
  {
   "cell_type": "markdown",
   "metadata": {},
   "source": [
    "# My Jupyter Notebook on IBM Watson Studio"
   ]
  },
  {
   "cell_type": "markdown",
   "metadata": {},
   "source": [
    "__Matias Lindholm__ <br> Senior Specialist, Total Rewards "
   ]
  },
  {
   "cell_type": "markdown",
   "metadata": {},
   "source": [
    "_I am interested in data science because it offers a way to derive useful insights that can help solve difficult problems. Moreover, it's just fun to try and solve difficult problems in creative ways_"
   ]
  },
  {
   "cell_type": "markdown",
   "metadata": {},
   "source": [
    "### The code calculates y=ax+b, where a=3 for b=5, for each value of x contained in list p."
   ]
  },
  {
   "cell_type": "code",
   "execution_count": 4,
   "metadata": {},
   "outputs": [
    {
     "name": "stdout",
     "output_type": "stream",
     "text": [
      "8\n",
      "14\n",
      "20\n",
      "26\n",
      "32\n"
     ]
    }
   ],
   "source": [
    "p=[1,3,5,7,9]\n",
    "a=3\n",
    "b=5\n",
    "for x in p:\n",
    "    y=a*x+b\n",
    "    print(y)"
   ]
  },
  {
   "cell_type": "markdown",
   "metadata": {},
   "source": [
    "- This is bullet point 1\n",
    "    - This is sub-bullet point 1\n",
    "- This is bullet point 2\n",
    "***\n",
    "1. This is numbered bullet point 1\n",
    "1. This is numbered bullet point 2\n",
    "***\n",
    "| Cat 1 | Cat 2 | Cat 3 |\n",
    "| ------ | ------ | ------ |\n",
    "| Val 1.1 | Val 1.2  | Val 1.3  |\n",
    "| Val 2.1 | Val 2.2  | Val 2.3  |\n",
    "| Val 3.1 | Val 3.2  | Val 3.3  |"
   ]
  }
 ],
 "metadata": {
  "kernelspec": {
   "display_name": "Python",
   "language": "python",
   "name": "conda-env-python-py"
  },
  "language_info": {
   "codemirror_mode": {
    "name": "ipython",
    "version": 3
   },
   "file_extension": ".py",
   "mimetype": "text/x-python",
   "name": "python",
   "nbconvert_exporter": "python",
   "pygments_lexer": "ipython3",
   "version": "3.7.12"
  }
 },
 "nbformat": 4,
 "nbformat_minor": 4
}
